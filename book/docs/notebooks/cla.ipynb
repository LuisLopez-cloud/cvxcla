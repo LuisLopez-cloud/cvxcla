{
 "cells": [
  {
   "cell_type": "markdown",
   "id": "2cb204b8-0e03-4b20-9441-bf8c4fbb7a81",
   "metadata": {},
   "source": [
    "# Critical Line Algorithm"
   ]
  },
  {
   "cell_type": "markdown",
   "id": "6d418686-e993-4327-85b3-99e3cb96d5f4",
   "metadata": {},
   "source": [
    "We compute an efficient frontier using the critical line algorithm (cla)\n"
   ]
  },
  {
   "cell_type": "code",
   "execution_count": null,
   "id": "7a5dd73c-918b-441d-b091-0c189f09ea9d",
   "metadata": {},
   "outputs": [],
   "source": [
    "# https://www.wallstreetmojo.com/efficient-frontier/"
   ]
  }
 ],
 "metadata": {
  "kernelspec": {
   "display_name": "cvxcla",
   "language": "python",
   "name": "cvxcla"
  },
  "language_info": {
   "codemirror_mode": {
    "name": "ipython",
    "version": 3
   },
   "file_extension": ".py",
   "mimetype": "text/x-python",
   "name": "python",
   "nbconvert_exporter": "python",
   "pygments_lexer": "ipython3",
   "version": "3.10.6"
  }
 },
 "nbformat": 4,
 "nbformat_minor": 5
}
